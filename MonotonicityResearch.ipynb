{
  "nbformat": 4,
  "nbformat_minor": 0,
  "metadata": {
    "colab": {
      "name": "MonotonicityResearch.ipynb",
      "provenance": [],
      "collapsed_sections": []
    },
    "kernelspec": {
      "name": "python3",
      "display_name": "Python 3"
    }
  },
  "cells": [
    {
      "cell_type": "code",
      "metadata": {
        "id": "KxJczG0BIzII"
      },
      "source": [
        "import numpy as np\n",
        "from numpy import dot, sum, zeros\n",
        "from numpy.linalg import inv, eig\n",
        "from numpy.random import normal\n",
        "\n",
        "\n",
        "def g(lamb,X,Q):\n",
        "    A = dot(X.T, X) - lamb * Q\n",
        "    A_inv = inv(A)\n",
        "    G = lamb**2 * dot(A_inv,A_inv)\n",
        "    return G\n",
        "\n",
        "def expected_g(lamb,n,d,Q,numSimuls):\n",
        "    expected_G_n = zeros((d,d))\n",
        "    for sim in range(numSimuls):\n",
        "        X_n = normal(0,1,size=(n,d))\n",
        "        G_n = g(lamb,X_n,Q)\n",
        "        expected_G_n = expected_G_n + G_n/numSimuls\n",
        "    return expected_G_n\n",
        "\n",
        "def dg_approx(lamb,X,Q,eps=10**(-7)):\n",
        "    G1 = g(lamb,X,Q)\n",
        "    G2 = g(lamb+eps,X,Q)\n",
        "    dG = (G2 - G1)/eps\n",
        "    return dG\n",
        "\n",
        "def dg(lamb,X,Q):\n",
        "    XTX = dot(X.T,X)\n",
        "    A = XTX - lamb * Q\n",
        "    A_inv = inv(A)\n",
        "    A_inv_2 = dot(A_inv,A_inv)\n",
        "\n",
        "    dG_lamb1 = 2*lamb * A_inv_2\n",
        "\n",
        "    B = A_inv\n",
        "    B_prime = -dot(dot(B, Q), B)\n",
        "    res = dot(B,B_prime) + dot(B_prime,B)\n",
        "    dG_lamb2 = lamb**2 * res\n",
        "    dG_lamb = dG_lamb1 + dG_lamb2\n",
        "    return -dG_lamb\n",
        "\n",
        "def expected_dg(lamb,n,d,Q,numSimuls,approx=False):\n",
        "    d_expected_G_n = zeros((d,d))\n",
        "    for sim in range(numSimuls):\n",
        "        X_n = normal(0,1,size=(n,d))\n",
        "        dG_n = None\n",
        "        if approx:\n",
        "            dG_n = dg_approx(lamb,X_n,Q)\n",
        "        else:\n",
        "            dG_n = dg(lamb,X_n,Q)\n",
        "        d_expected_G_n = d_expected_G_n + dG_n/numSimuls\n",
        "    return d_expected_G_n\n",
        "\n",
        "\n",
        "def h(lamb,X,Q):\n",
        "    mat = dot(X.T, X) - lamb * Q\n",
        "    mat_inv = inv(mat)\n",
        "    H = sum(dot(mat_inv, X.T)**2)\n",
        "    return H\n",
        "\n",
        "def expected_h(lamb,n,d,Q,numSimuls):\n",
        "    expected_H_n = 0\n",
        "    for sim in range(numSimuls):\n",
        "        X_n = normal(0,1,size=(n,d))\n",
        "        H_n = h(lamb,X_n,Q)\n",
        "        expected_H_n = expected_H_n + H_n/numSimuls\n",
        "    return expected_H_n\n",
        "\n",
        "def dh_approx(lamb,X,Q,eps=10**(-7)):\n",
        "    H1 = h(lamb,X,Q)\n",
        "    H2 = h(lamb+eps,X,Q)\n",
        "    dH = (H2 - H1)/eps\n",
        "    return dH\n",
        "\n",
        "def dh(lamb,X,Q):\n",
        "    XTX = dot(X.T,X)\n",
        "    A = XTX - lamb * Q\n",
        "    A_inv = inv(A)\n",
        "    B = A_inv\n",
        "    B_prime = -dot(dot(B,Q),B)\n",
        "    res1 = dot(X,B_prime)\n",
        "    res2 = 2 * np.dot(X,B)\n",
        "    dh_dlamb = sum(res1 * res2)\n",
        "    return -dh_dlamb\n",
        "\n",
        "def expected_dh(lamb,n,d,Q,numSimuls,approx=False):\n",
        "    d_expected_H_n = 0\n",
        "    for sim in range(numSimuls):\n",
        "        X_n = normal(0,1,size=(n,d))\n",
        "        if approx:\n",
        "            dH_n = dh_approx(lamb,X_n,Q)\n",
        "        else:\n",
        "            dH_n = dh(lamb,X_n,Q)\n",
        "        d_expected_H_n = d_expected_H_n + dH_n/numSimuls\n",
        "    return d_expected_H_n\n",
        "\n",
        "\n",
        "def isPSD(mat):\n",
        "    eigs = eig(mat)[0]\n",
        "    print(eigs)\n",
        "    for i in range(len(eigs)):\n",
        "        if eigs[i] < 0: return False\n",
        "    return True\n"
      ],
      "execution_count": 4,
      "outputs": []
    },
    {
      "cell_type": "code",
      "metadata": {
        "colab": {
          "base_uri": "https://localhost:8080/"
        },
        "id": "fPGX1rNSI9ax",
        "outputId": "07f38350-61e1-45a6-b175-f684fb4ae42c"
      },
      "source": [
        "n = 10\n",
        "d = n\n",
        "numSimuls = 100\n",
        "\n",
        "lamb = 500\n",
        "Q = [i/d for i in range(1,d+1)] * np.identity(d)\n",
        "\n",
        "expected_G_n1 = expected_g(lamb,n+1,d,Q,numSimuls)\n",
        "expected_G_n = expected_g(lamb,n,d,Q,numSimuls)\n",
        "d_expected_G_n = expected_g(lamb,n,d,Q,numSimuls)\n",
        "\n",
        "expected_H_n1 = expected_h(lamb,n+1,d,Q,numSimuls)\n",
        "expected_H_n = expected_h(lamb,n,d,Q,numSimuls)\n",
        "d_expected_H_n = expected_dh(lamb,n,d,Q,numSimuls)\n",
        "\n",
        "mat = (expected_G_n - expected_G_n1) * d_expected_H_n - (expected_H_n - expected_H_n1) * d_expected_G_n\n",
        "res = isPSD(mat)\n",
        "print(res)\n",
        "\n",
        "\n",
        "# Debugging\n",
        "# print(expected_G_n1)\n",
        "# print(expected_G_n)\n",
        "# print(d_expected_G_n)\n",
        "# print(expected_H_n1)\n",
        "# print(expected_H_n)\n",
        "# print(d_expected_H_n)"
      ],
      "execution_count": 22,
      "outputs": [
        {
          "output_type": "stream",
          "text": [
            "[0.41014781 0.07613795 0.03129533 0.01712459 0.01073029 0.0073375\n",
            " 0.00532507 0.00254808 0.00405606 0.0031896 ]\n",
            "True\n"
          ],
          "name": "stdout"
        }
      ]
    },
    {
      "cell_type": "code",
      "metadata": {
        "colab": {
          "base_uri": "https://localhost:8080/"
        },
        "id": "VZyE2nQgauWq",
        "outputId": "f9efd5d2-2938-481b-eef4-35a7a8957469"
      },
      "source": [
        "# Numerical gradient checking\n",
        "n = 100\n",
        "d = 50\n",
        "\n",
        "lamb = 8\n",
        "Q = [i for i in range(1,d+1)] * np.identity(d)\n",
        "Xa = normal(size=(n,d))\n",
        "eps = 10**(-5)\n",
        "\n",
        "print(dg_approx(lamb,Xa,Q,eps) / dg(lamb,Xa,Q)) #if correct, entries should be close to 1\n",
        "print(dh_approx(lamb,Xa,Q,eps) / dh(lamb,Xa,Q)) #if correct, should be close to 1"
      ],
      "execution_count": 31,
      "outputs": [
        {
          "output_type": "stream",
          "text": [
            "[[0.99550989 0.99551023 0.99550987 ... 0.99551021 0.99551013 0.99551032]\n",
            " [0.99551023 0.99550991 0.99551021 ... 0.9955101  0.99550988 0.99551019]\n",
            " [0.99550987 0.99551021 0.99550473 ... 0.99551016 0.99551053 0.99551211]\n",
            " ...\n",
            " [0.99551021 0.9955101  0.99551016 ... 0.99551001 0.99551007 0.99551012]\n",
            " [0.99551013 0.99550988 0.99551053 ... 0.99551007 0.99550906 0.99551019]\n",
            " [0.99551032 0.99551019 0.99551211 ... 0.99551012 0.99551019 0.99550915]]\n",
            "0.9966071069899405\n"
          ],
          "name": "stdout"
        }
      ]
    }
  ]
}